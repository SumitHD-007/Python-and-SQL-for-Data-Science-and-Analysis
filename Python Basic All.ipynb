{
 "cells": [
  {
   "cell_type": "code",
   "execution_count": 3,
   "id": "fb2789d5",
   "metadata": {},
   "outputs": [
    {
     "name": "stdout",
     "output_type": "stream",
     "text": [
      "['False', 'None', 'True', 'and', 'as', 'assert', 'async', 'await', 'break', 'class', 'continue', 'def', 'del', 'elif', 'else', 'except', 'finally', 'for', 'from', 'global', 'if', 'import', 'in', 'is', 'lambda', 'nonlocal', 'not', 'or', 'pass', 'raise', 'return', 'try', 'while', 'with', 'yield']\n",
      "\n",
      " number of keywords: 35\n"
     ]
    }
   ],
   "source": [
    "#keywords in python\n",
    "from keyword import kwlist\n",
    "print(kwlist)\n",
    "print(\"\\n number of keywords:\",len(kwlist))"
   ]
  },
  {
   "cell_type": "code",
   "execution_count": 4,
   "id": "bcb734f3",
   "metadata": {},
   "outputs": [
    {
     "name": "stdout",
     "output_type": "stream",
     "text": [
      "140723779020880\n"
     ]
    }
   ],
   "source": [
    "a = 10\n",
    "print(id(a)) \n",
    "#that means the value came out by printing are on the memory location"
   ]
  },
  {
   "cell_type": "code",
   "execution_count": 5,
   "id": "bf1ee522",
   "metadata": {},
   "outputs": [
    {
     "name": "stdout",
     "output_type": "stream",
     "text": [
      "140723779020848\n"
     ]
    }
   ],
   "source": [
    "a = 9\n",
    "print(id(a)) \n",
    "# for every stored number python has seperate memory location"
   ]
  },
  {
   "cell_type": "code",
   "execution_count": 2,
   "id": "c4dab8c1",
   "metadata": {},
   "outputs": [
    {
     "name": "stdout",
     "output_type": "stream",
     "text": [
      "(1+2j) is it a complex number?\n",
      "True\n",
      "<class 'complex'>\n"
     ]
    }
   ],
   "source": [
    "# isintance checks the boolean number\n",
    "a= 1 + 2j\n",
    "print((a),\"is it a complex number?\")\n",
    "print(isinstance(1+2j,complex))\n",
    "print(type(a))"
   ]
  },
  {
   "cell_type": "code",
   "execution_count": 1,
   "id": "369422d1",
   "metadata": {},
   "outputs": [],
   "source": [
    "# python doesn't need to assign data types, it already knows what are the data types after assigning\n",
    "a=10\n",
    "b=5.5\n",
    "c=\"ML\""
   ]
  },
  {
   "cell_type": "code",
   "execution_count": 5,
   "id": "d2d5ea7a",
   "metadata": {},
   "outputs": [
    {
     "name": "stdout",
     "output_type": "stream",
     "text": [
      "<class 'bool'>\n",
      "<class 'bool'>\n"
     ]
    }
   ],
   "source": [
    "a= True\n",
    "b= False\n",
    "print(type(a))\n",
    "print(type(b))"
   ]
  },
  {
   "cell_type": "code",
   "execution_count": 7,
   "id": "f039923a",
   "metadata": {},
   "outputs": [
    {
     "name": "stdout",
     "output_type": "stream",
     "text": [
      "This is online course\n",
      "<class 'str'>\n"
     ]
    }
   ],
   "source": [
    "# Strings is a sequence of UNICODE characters, the first character of the string is index 0, it can represent by \"\",'',''\n",
    "s= \"This is online course\"\n",
    "print(s)\n",
    "print(type(s))"
   ]
  },
  {
   "cell_type": "code",
   "execution_count": 8,
   "id": "7350a9be",
   "metadata": {},
   "outputs": [
    {
     "name": "stdout",
     "output_type": "stream",
     "text": [
      "i\n"
     ]
    }
   ],
   "source": [
    "#last character of s[len(s)-1]or s[-1]\n",
    "print(s[5])"
   ]
  },
  {
   "cell_type": "code",
   "execution_count": 11,
   "id": "2b703b19",
   "metadata": {},
   "outputs": [
    {
     "name": "stdout",
     "output_type": "stream",
     "text": [
      "T\n",
      "s\n",
      "e\n",
      "s\n"
     ]
    }
   ],
   "source": [
    "print(s[0])\n",
    "print(s[3])\n",
    "print(s[-1])\n",
    "print(s[-2])\n",
    "# -1 or -2 means we counting from backwards"
   ]
  },
  {
   "cell_type": "code",
   "execution_count": 14,
   "id": "d18c444c",
   "metadata": {},
   "outputs": [
    {
     "name": "stdout",
     "output_type": "stream",
     "text": [
      "e\n"
     ]
    }
   ],
   "source": [
    "# we can get the last index by other way, it means the whole length of s and minus 1 from it\n",
    "print(s[len(s)-1])"
   ]
  },
  {
   "cell_type": "code",
   "execution_count": 15,
   "id": "769569bb",
   "metadata": {},
   "outputs": [
    {
     "data": {
      "text/plain": [
       "'is online course'"
      ]
     },
     "execution_count": 15,
     "metadata": {},
     "output_type": "execute_result"
    }
   ],
   "source": [
    "#slicing\n",
    "s[5:] #this means from index 5 to(:) end"
   ]
  },
  {
   "cell_type": "code",
   "execution_count": 16,
   "id": "d8ae3d43",
   "metadata": {},
   "outputs": [
    {
     "data": {
      "text/plain": [
       "'is on'"
      ]
     },
     "execution_count": 16,
     "metadata": {},
     "output_type": "execute_result"
    }
   ],
   "source": [
    "s[5:10]"
   ]
  },
  {
   "cell_type": "code",
   "execution_count": 19,
   "id": "eef9a3cf",
   "metadata": {},
   "outputs": [
    {
     "name": "stdout",
     "output_type": "stream",
     "text": [
      "Hola\n",
      "30.6\n",
      "10\n",
      "[70, 30.6, 'Hola']\n"
     ]
    }
   ],
   "source": [
    "#List is an ordered sequence of items, list is mutable,meaning value of element in the list can be changed\n",
    "U=[10,30.6,\"Hola\"]\n",
    "print(U[2])\n",
    "print(U[1])\n",
    "print(U[0])\n",
    "U[0]=70\n",
    "print(U)"
   ]
  },
  {
   "cell_type": "code",
   "execution_count": 21,
   "id": "8dda0cbf",
   "metadata": {},
   "outputs": [
    {
     "name": "stdout",
     "output_type": "stream",
     "text": [
      "90\n"
     ]
    }
   ],
   "source": [
    "#Tuples\n",
    "#Tuples are declared in parenthese where list is declared in square brackets \n",
    "#tuples are non changeble where list is changeble\n",
    "#Tuples is a ordered sequence items same as list\n",
    "# one can't modify in tuples in any index\n",
    "a=(10,90,78.5,\"yuh\")\n",
    "print(a[1])"
   ]
  },
  {
   "cell_type": "code",
   "execution_count": 23,
   "id": "075f1e52",
   "metadata": {},
   "outputs": [
    {
     "name": "stdout",
     "output_type": "stream",
     "text": [
      "{1, 2, 3, 4, 5, 6, 7}\n"
     ]
    }
   ],
   "source": [
    "#Set is an unordered items, it use as curly braces\n",
    "#Set only stores unqiue values not value will repeative\n",
    "# just like list or items how we can get value from index but in set that is different\n",
    "# we can't print the elements in sets indexwise because its unorder collections of items\n",
    "s={1,2,3,4,4,4,6,7,4,5}\n",
    "print(s)"
   ]
  },
  {
   "cell_type": "code",
   "execution_count": 30,
   "id": "0f55975c",
   "metadata": {},
   "outputs": [
    {
     "name": "stdout",
     "output_type": "stream",
     "text": [
      "apple\n"
     ]
    }
   ],
   "source": [
    "#Dictionaries\n",
    "#Dictionaries are like hashtables, its a key value store first one is key and 2nd one is value\n",
    "#just like sets dictioinaries define as curly braces, but one needs to put first key then value like\n",
    "a={'a':\"apple\", 'b':\"ball\"} \n",
    "#here \"a\" is key and \"apple\" is value\n",
    "print(a['a'])\n",
    "#so here printing the key for getting value"
   ]
  },
  {
   "cell_type": "code",
   "execution_count": 31,
   "id": "4620641d",
   "metadata": {},
   "outputs": [
    {
     "data": {
      "text/plain": [
       "5.0"
      ]
     },
     "execution_count": 31,
     "metadata": {},
     "output_type": "execute_result"
    }
   ],
   "source": [
    "#for converting\n",
    "float(5) #here 5 is int"
   ]
  },
  {
   "cell_type": "code",
   "execution_count": 32,
   "id": "1c353911",
   "metadata": {},
   "outputs": [
    {
     "data": {
      "text/plain": [
       "'25'"
      ]
     },
     "execution_count": 32,
     "metadata": {},
     "output_type": "execute_result"
    }
   ],
   "source": [
    "str(25)"
   ]
  },
  {
   "cell_type": "code",
   "execution_count": 1,
   "id": "d61765e7",
   "metadata": {},
   "outputs": [
    {
     "name": "stdout",
     "output_type": "stream",
     "text": [
      "congratulations, Rohan !You just completed 100 kilometers of marathon \n"
     ]
    }
   ],
   "source": [
    "user=\"Rohan\"\n",
    "lines=100\n",
    "print(\"congratulations, \"+user+\" !You just completed \"+str(lines)+\" kilometers of marathon \")\n",
    "#remove str it will give a error as without str the lines variable will work on a mathematical way"
   ]
  },
  {
   "cell_type": "code",
   "execution_count": 39,
   "id": "daab115d",
   "metadata": {},
   "outputs": [
    {
     "name": "stdout",
     "output_type": "stream",
     "text": [
      "<class 'list'>\n",
      "<class 'set'>\n"
     ]
    }
   ],
   "source": [
    "#converting a list to a set\n",
    "l=[1,5,7,9,14]\n",
    "print(type(l))\n",
    "s=set(l)\n",
    "print(type(s))"
   ]
  },
  {
   "cell_type": "code",
   "execution_count": 3,
   "id": "5f7f8274",
   "metadata": {},
   "outputs": [
    {
     "data": {
      "text/plain": [
       "['H', 'o', 'l', 'a', ',', 'a', 'm', 'i', 'g', 'o']"
      ]
     },
     "execution_count": 3,
     "metadata": {},
     "output_type": "execute_result"
    }
   ],
   "source": [
    "#convert string to a list\n",
    "list(\"Hola,amigo\")"
   ]
  },
  {
   "cell_type": "code",
   "execution_count": 6,
   "id": "ce3471ce",
   "metadata": {},
   "outputs": [
    {
     "name": "stdout",
     "output_type": "stream",
     "text": [
      "the value of b is 20 and a is 10\n"
     ]
    }
   ],
   "source": [
    "#OUTPUT FORMAT\n",
    "a=10;b=20\n",
    "print(\"the value of b is {1} and a is {0}\".format(a,b))"
   ]
  },
  {
   "cell_type": "code",
   "execution_count": 8,
   "id": "2a759544",
   "metadata": {},
   "outputs": [
    {
     "name": "stdout",
     "output_type": "stream",
     "text": [
      "The story of Bill, Manford and George\n"
     ]
    }
   ],
   "source": [
    "# we can combine positional arguements with keyword arguements\n",
    "print(\"The story of {a}, {b} and {c}\".format(a='Bill',b='Manford', c='George'))"
   ]
  },
  {
   "cell_type": "code",
   "execution_count": 1,
   "id": "c059d1d9",
   "metadata": {},
   "outputs": [
    {
     "name": "stdout",
     "output_type": "stream",
     "text": [
      "1\n"
     ]
    }
   ],
   "source": [
    "#reminder\n",
    "print(17%2)"
   ]
  },
  {
   "cell_type": "code",
   "execution_count": 4,
   "id": "dccd7f8d",
   "metadata": {},
   "outputs": [
    {
     "name": "stdout",
     "output_type": "stream",
     "text": [
      "7.5\n",
      "7\n",
      "-7.5\n",
      "-8\n",
      "16\n",
      "27\n",
      "512\n"
     ]
    }
   ],
   "source": [
    "#floor\n",
    "print(15/2)\n",
    "print(15//2)\n",
    "print(-15/2)\n",
    "print(-15//2)\n",
    "#exponents\n",
    "print(2**4)\n",
    "print(3**3)\n",
    "print(2**9)"
   ]
  },
  {
   "cell_type": "code",
   "execution_count": 5,
   "id": "218484b0",
   "metadata": {},
   "outputs": [
    {
     "name": "stdout",
     "output_type": "stream",
     "text": [
      "True\n",
      "True\n",
      "False\n"
     ]
    }
   ],
   "source": [
    "# detecting true or false\n",
    "a=10;b=9\n",
    "print(a>b)\n",
    "print(a>=b)\n",
    "print(a<b)"
   ]
  },
  {
   "cell_type": "code",
   "execution_count": 7,
   "id": "e7df1b61",
   "metadata": {},
   "outputs": [
    {
     "name": "stdout",
     "output_type": "stream",
     "text": [
      "False\n",
      "True\n"
     ]
    }
   ],
   "source": [
    "#logical operators\n",
    "a, b=True,False\n",
    "print(a and b)\n",
    "print (a or b)"
   ]
  },
  {
   "cell_type": "code",
   "execution_count": 8,
   "id": "4b834e61",
   "metadata": {},
   "outputs": [
    {
     "name": "stdout",
     "output_type": "stream",
     "text": [
      "0\n",
      "14\n"
     ]
    }
   ],
   "source": [
    "#bitwise operators\n",
    "a,b = 10,4\n",
    "print(a & b)\n",
    "print(a | b)"
   ]
  },
  {
   "cell_type": "code",
   "execution_count": 10,
   "id": "eb18dff3",
   "metadata": {},
   "outputs": [
    {
     "name": "stdout",
     "output_type": "stream",
     "text": [
      "20\n"
     ]
    }
   ],
   "source": [
    "a=10\n",
    "a+=10\n",
    "print(a)"
   ]
  },
  {
   "cell_type": "code",
   "execution_count": 15,
   "id": "503ad515",
   "metadata": {},
   "outputs": [
    {
     "name": "stdout",
     "output_type": "stream",
     "text": [
      "0\n",
      "42\n"
     ]
    }
   ],
   "source": [
    "a=20\n",
    "a-=20\n",
    "print(a)\n",
    "b=21\n",
    "b+=21\n",
    "print(b)"
   ]
  },
  {
   "cell_type": "code",
   "execution_count": 16,
   "id": "4abc43f6",
   "metadata": {},
   "outputs": [
    {
     "name": "stdout",
     "output_type": "stream",
     "text": [
      "True\n"
     ]
    }
   ],
   "source": [
    "#identity operators\n",
    "a=5\n",
    "b=5\n",
    "print(b is a)"
   ]
  },
  {
   "cell_type": "code",
   "execution_count": 17,
   "id": "2f33aa61",
   "metadata": {},
   "outputs": [
    {
     "name": "stdout",
     "output_type": "stream",
     "text": [
      "True\n",
      "False\n"
     ]
    }
   ],
   "source": [
    "f='AAICE'\n",
    "g='AAICE'\n",
    "print(f is g)\n",
    "print(f is not g)"
   ]
  },
  {
   "cell_type": "code",
   "execution_count": 18,
   "id": "5cf94664",
   "metadata": {},
   "outputs": [
    {
     "name": "stdout",
     "output_type": "stream",
     "text": [
      "False\n"
     ]
    }
   ],
   "source": [
    "# but in terms of complex variables or methods like list or set, identity operators can't work just like the example\n",
    "l1=[13,40,51,78]\n",
    "l2=[13,40,51,78]\n",
    "print(l1 is l2)\n",
    "# even both of the list have the same numbers but still it isn't identify same as each other"
   ]
  },
  {
   "cell_type": "code",
   "execution_count": 20,
   "id": "255e5b19",
   "metadata": {},
   "outputs": [
    {
     "name": "stdout",
     "output_type": "stream",
     "text": [
      "True\n",
      "True\n"
     ]
    }
   ],
   "source": [
    "#Membership operators\n",
    "lst=[1,3,5,7,9,10]\n",
    "print(10 in lst)\n",
    "d={1:'u',2:'y'}\n",
    "print(1 in d)"
   ]
  },
  {
   "cell_type": "code",
   "execution_count": 26,
   "id": "dd292121",
   "metadata": {},
   "outputs": [
    {
     "name": "stdout",
     "output_type": "stream",
     "text": [
      "This will print always\n"
     ]
    }
   ],
   "source": [
    "#if-else\n",
    "num=10\n",
    "#num>10 is a test condition\n",
    "#0,none and False always taken as: False in python\n",
    "if num>10:\n",
    "    print('The number is positive')\n",
    "print('This will print always')"
   ]
  },
  {
   "cell_type": "code",
   "execution_count": 28,
   "id": "785b8625",
   "metadata": {},
   "outputs": [
    {
     "name": "stdout",
     "output_type": "stream",
     "text": [
      "The number is negative\n"
     ]
    }
   ],
   "source": [
    "num=-70\n",
    "#if ,else,elif(else if)\n",
    "if num>0:\n",
    "    print(\"The number is positive\")\n",
    "elif num==0:\n",
    "    print(\"Zero\")\n",
    "else:\n",
    "    print('The number is negative')\n"
   ]
  },
  {
   "cell_type": "code",
   "execution_count": 29,
   "id": "9c9b4925",
   "metadata": {},
   "outputs": [
    {
     "name": "stdout",
     "output_type": "stream",
     "text": [
      "Positive Number\n"
     ]
    }
   ],
   "source": [
    "#another excercise\n",
    "num=11.5\n",
    "if num>=0:\n",
    "    if num==0:\n",
    "        print(\"zero\")\n",
    "    else:\n",
    "        print(\"Positive Number\")\n",
    "else:\n",
    "    print(\"Negative number\")"
   ]
  },
  {
   "cell_type": "code",
   "execution_count": 31,
   "id": "5bd67913",
   "metadata": {},
   "outputs": [
    {
     "name": "stdout",
     "output_type": "stream",
     "text": [
      "The largest number between this three is: 50\n"
     ]
    }
   ],
   "source": [
    "#Find the largest element among three numbers\n",
    "num1=14\n",
    "num2=50\n",
    "num3=49\n",
    "\n",
    "if(num1>num2) and (num1>num3):\n",
    "    largest=num1\n",
    "elif(num2>num1) and (num2>num3):\n",
    "    largest=num2\n",
    "else:\n",
    "    largest=num3\n",
    "print(\"The largest number between this three is: {}\".format(largest))"
   ]
  },
  {
   "cell_type": "code",
   "execution_count": 36,
   "id": "2d20576e",
   "metadata": {},
   "outputs": [
    {
     "name": "stdout",
     "output_type": "stream",
     "text": [
      "10\n",
      "200\n",
      "6000\n",
      "240000\n",
      "12000000\n",
      "720000000\n",
      "50400000000\n",
      "4032000000000\n",
      "the whole product is:4032000000000\n"
     ]
    }
   ],
   "source": [
    "#While loops\n",
    "#find product of all numbers in the list\n",
    "lst=[10,20,30,40,50,60,70,80]\n",
    "product=1\n",
    "index=0\n",
    "while index<len(lst):\n",
    "    product *= lst[index]\n",
    "    print(product)\n",
    "    index+=1\n",
    "print(\"the whole product is:{}\".format(product))\n",
    "    "
   ]
  },
  {
   "cell_type": "code",
   "execution_count": 37,
   "id": "c7c7464c",
   "metadata": {},
   "outputs": [
    {
     "name": "stdout",
     "output_type": "stream",
     "text": [
      "1\n",
      "2\n",
      "3\n",
      "4\n",
      "5\n",
      "6\n",
      "7\n",
      "8\n",
      "nothing else to print\n"
     ]
    }
   ],
   "source": [
    "#while with else\n",
    "num=[1,2,3,4,5,6,7,8]\n",
    "index=0\n",
    "while index<len(num):\n",
    "    print(num[index])\n",
    "    index += 1\n",
    "else:\n",
    "    print(\"nothing else to print\")"
   ]
  },
  {
   "cell_type": "code",
   "execution_count": null,
   "id": "1d196d89",
   "metadata": {},
   "outputs": [],
   "source": [
    "#python program to check the given number is prime or not\n",
    "#what is prime number? ans: its a number which is divisible by 1 and itself\n",
    "num=int(input(\"Enter a number: \"))   #converting str to a int\n",
    "isDivisible = False;\n",
    "i=2;\n",
    "while i<num:\n",
    "    if num % i == 0:\n",
    "        isDivisible=True;\n",
    "        print('{} is divisible by {}'.format(num,i))\n",
    "        i += 1;\n",
    "if isDivisible:\n",
    "    print('{} is not a prime number'.format(num))\n",
    "else:\n",
    "    print(('{} is a prime number'.format(num)))"
   ]
  },
  {
   "cell_type": "code",
   "execution_count": 2,
   "id": "2f8ed15c",
   "metadata": {},
   "outputs": [
    {
     "name": "stdout",
     "output_type": "stream",
     "text": [
      "the whole product value is: 12000000\n"
     ]
    }
   ],
   "source": [
    "#for loop\n",
    "# for element in sequence:\n",
    "#    Body of for\n",
    "#find products of all number present in the list\n",
    "lst = [10,20,30,40,50]\n",
    "\n",
    "product = 1\n",
    "for elem in lst:\n",
    "    product *= elem\n",
    "print(\"the whole product value is: {}\".format(product))"
   ]
  },
  {
   "cell_type": "code",
   "execution_count": 6,
   "id": "3ee4a75a",
   "metadata": {},
   "outputs": [
    {
     "name": "stdout",
     "output_type": "stream",
     "text": [
      "1\n",
      "3\n",
      "5\n",
      "7\n",
      "9\n",
      "11\n",
      "13\n",
      "15\n",
      "17\n",
      "19\n"
     ]
    }
   ],
   "source": [
    "#range in for\n",
    "for i in range(1,20,2):    #here iteration happens from 1-20 and 2 is the step size after the iteration of 1 it will\n",
    "     print(i)                       # iterate 1+2 then 3+2 and continue....  "
   ]
  },
  {
   "cell_type": "code",
   "execution_count": 16,
   "id": "db7cb760",
   "metadata": {},
   "outputs": [
    {
     "name": "stdout",
     "output_type": "stream",
     "text": [
      "rohan\n",
      "roni\n",
      "rock\n",
      "roman\n",
      "rahem\n",
      "No item left in the list\n"
     ]
    }
   ],
   "source": [
    "lst = [\"rohan\",\"roni\",\"rock\",\"roman\",\"rahem\"]\n",
    "for i in range(len(lst)):\n",
    "    #here len(lst)=0,1,2,3,4=5\n",
    "    print(lst[i])\n",
    "else:\n",
    "    print(\"No item left in the list\")\n",
    "# it will be same for this also:\n",
    "#for ele in lst:\n",
    "#    print(ele)"
   ]
  },
  {
   "cell_type": "code",
   "execution_count": null,
   "id": "1d49d2d6",
   "metadata": {},
   "outputs": [],
   "source": [
    "#python program to display all prime numbers in the interval"
   ]
  }
 ],
 "metadata": {
  "kernelspec": {
   "display_name": "Python 3",
   "language": "python",
   "name": "python3"
  },
  "language_info": {
   "codemirror_mode": {
    "name": "ipython",
    "version": 3
   },
   "file_extension": ".py",
   "mimetype": "text/x-python",
   "name": "python",
   "nbconvert_exporter": "python",
   "pygments_lexer": "ipython3",
   "version": "3.8.8"
  }
 },
 "nbformat": 4,
 "nbformat_minor": 5
}
